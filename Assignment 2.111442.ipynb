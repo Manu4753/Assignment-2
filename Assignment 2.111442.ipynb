{
 "cells": [
  {
   "cell_type": "code",
   "execution_count": null,
   "metadata": {},
   "outputs": [],
   "source": [
    "The function \"echo_name\" takes 2 parameters: a string value, \"name1\"and\n",
    "an integer value, \"echo_int\". It returns a string that is a concatenation of\n",
    "\"echo_int\" copies of \"name1\".\n",
    "Your task is to convert this simple function into a lambda function."
   ]
  },
  {
   "cell_type": "code",
   "execution_count": 1,
   "metadata": {},
   "outputs": [
    {
     "name": "stdout",
     "output_type": "stream",
     "text": [
      "acadgildacadgildacadgildacadgildacadgild\n"
     ]
    }
   ],
   "source": [
    "# Define a lambda function: echo_name\n",
    "echo_name = lambda name1,echo_int: name1*echo_int\n",
    "# Call echo_name with parameters (\"acadgild\",5)\n",
    "result = echo_name (\"acadgild\",5)\n",
    "# Print result\n",
    "print(result)"
   ]
  },
  {
   "cell_type": "code",
   "execution_count": null,
   "metadata": {},
   "outputs": [],
   "source": [
    "Convert temperature in Celsius to Fahrenheit using map() and lambda\n",
    "functions\n",
    "Sample input\n",
    "Celsius = [49.2, 26.5, 47.3, 47.8]\n",
    "Expected Output\n",
    "[120.56, 79.7, 117.14, 118.03999999999999]"
   ]
  },
  {
   "cell_type": "code",
   "execution_count": 2,
   "metadata": {},
   "outputs": [
    {
     "name": "stdout",
     "output_type": "stream",
     "text": [
      "[120.56, 79.7, 117.14, 118.03999999999999]\n"
     ]
    }
   ],
   "source": [
    "# Initialize list\n",
    "Celsius = [49.2, 26.5, 47.3, 47.8]\n",
    "#use map() and lambda,convert to Fahrenheit\n",
    "#map(function,list)\n",
    "\n",
    "Fahrenheit = list(map(lambda x:(x*1.8)+32,Celsius))\n",
    "#print Fahrenheit\n",
    "print(Fahrenheit)"
   ]
  },
  {
   "cell_type": "code",
   "execution_count": null,
   "metadata": {},
   "outputs": [],
   "source": [
    "The function filter(function, list) filters out all the elements of a list, for\n",
    "which the function function returns True.\n",
    "The function filter(f,l) needs a function f as its first argument. f re\n",
    "turns a Boolean value, i.e. either True or False. This function will be\n",
    "applied to every element of the list l. Only if f returns True will the\n",
    "element of the list be included in the result list\n",
    "Q. print the letters that are vowels using filter and lambda functions\n",
    "sample_string = \"Welcome to AcadGild\""
   ]
  },
  {
   "cell_type": "code",
   "execution_count": 3,
   "metadata": {},
   "outputs": [
    {
     "data": {
      "text/plain": [
       "['e', 'o', 'e', 'o', 'a', 'i']"
      ]
     },
     "execution_count": 3,
     "metadata": {},
     "output_type": "execute_result"
    }
   ],
   "source": [
    "sample_string = \"Welcome to AcadGild\"\n",
    "vowels = ['a','e','i','o','u']\n",
    "list(filter(lambda x: x in vowels, sample_string))"
   ]
  },
  {
   "cell_type": "code",
   "execution_count": null,
   "metadata": {},
   "outputs": [],
   "source": [
    "Use generator expression to print out only alphabets from the following\n",
    "string\n",
    "string = \"123@Welc34ometo12@ac#adGild\""
   ]
  },
  {
   "cell_type": "code",
   "execution_count": 4,
   "metadata": {},
   "outputs": [
    {
     "data": {
      "text/plain": [
       "'WelcometoacadGild'"
      ]
     },
     "execution_count": 4,
     "metadata": {},
     "output_type": "execute_result"
    }
   ],
   "source": [
    "string = \"123@Welc34ometo12@ac#adGild\"\n",
    "result = ''.join(list(filter(lambda x : x.isalpha() , string)))\n",
    "result"
   ]
  },
  {
   "cell_type": "code",
   "execution_count": null,
   "metadata": {},
   "outputs": [],
   "source": [
    "Implement a function longestWord() that takes a list of words and returns\n",
    "the longest one.\n",
    "Sample Word List\n",
    "word= [\"January\",\"Feburary\",\"March\",\"April\",\"May\",\"June\",\"July\"]\n",
    "Expected Output\n",
    "['Feburary']"
   ]
  },
  {
   "cell_type": "code",
   "execution_count": 12,
   "metadata": {},
   "outputs": [
    {
     "name": "stdout",
     "output_type": "stream",
     "text": [
      "['May']\n"
     ]
    }
   ],
   "source": [
    "# Initialize the list\n",
    "word= [\"January\",\"Feburary\",\"March\",\"April\",\"May\",\"June\",\"July\"]\n",
    "#define function named longestWord with one parameter (arg_word)\n",
    "def longestWord(arg_word):\n",
    "    max_len = len(max(arg_word))\n",
    "    return [x for x in arg_word if len(x) == max_len]\n",
    "\n",
    "print(longestWord(word))"
   ]
  },
  {
   "cell_type": "code",
   "execution_count": null,
   "metadata": {},
   "outputs": [],
   "source": []
  },
  {
   "cell_type": "code",
   "execution_count": null,
   "metadata": {},
   "outputs": [],
   "source": []
  },
  {
   "cell_type": "code",
   "execution_count": null,
   "metadata": {},
   "outputs": [],
   "source": []
  }
 ],
 "metadata": {
  "kernelspec": {
   "display_name": "Python 3",
   "language": "python",
   "name": "python3"
  },
  "language_info": {
   "codemirror_mode": {
    "name": "ipython",
    "version": 3
   },
   "file_extension": ".py",
   "mimetype": "text/x-python",
   "name": "python",
   "nbconvert_exporter": "python",
   "pygments_lexer": "ipython3",
   "version": "3.7.0"
  }
 },
 "nbformat": 4,
 "nbformat_minor": 2
}
